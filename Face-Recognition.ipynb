{
 "cells": [
  {
   "cell_type": "markdown",
   "metadata": {},
   "source": [
    "# Face Recognition Model"
   ]
  },
  {
   "cell_type": "markdown",
   "metadata": {},
   "source": [
    "#### Samartha Siddhartha"
   ]
  },
  {
   "cell_type": "code",
   "execution_count": 2,
   "metadata": {},
   "outputs": [],
   "source": [
    "import os"
   ]
  },
  {
   "cell_type": "code",
   "execution_count": 3,
   "metadata": {},
   "outputs": [],
   "source": [
    "os.chdir(\"G:\\ISBHyderabad\\Campus6\\Practicum3\\Extracted\")"
   ]
  },
  {
   "cell_type": "markdown",
   "metadata": {},
   "source": [
    "#### Open Cv Function To Detect Faces In Any Imange & Crop it"
   ]
  },
  {
   "cell_type": "code",
   "execution_count": 4,
   "metadata": {},
   "outputs": [],
   "source": [
    "# %load detect_face.py\n",
    "from random import randint\n",
    "import cv2\n",
    "import sys\n",
    "      \n",
    "CASCADE=\"Face_cascade.xml\"\n",
    "FACE_CASCADE=cv2.CascadeClassifier(CASCADE)\n",
    "\n",
    "def detect_faces(image_path):\n",
    "\n",
    "\timage=cv2.imread(image_path)\n",
    "\timage_grey=cv2.cvtColor(image,cv2.COLOR_BGR2GRAY)\n",
    "\n",
    "\tfaces = FACE_CASCADE.detectMultiScale(image_grey,scaleFactor=1.16,minNeighbors=5,minSize=(25,25),flags=0)\n",
    "\n",
    "\tfor x,y,w,h in faces:\n",
    "\t    sub_img=image[y-10:y+h+10,x-10:x+w+10]\n",
    "\t    cv2.imwrite(str(randint(0,10000))+\".jpg\",sub_img)\n",
    "\t    cv2.rectangle(image,(x,y),(x+w,y+h),(255, 255,0),2)\n"
   ]
  },
  {
   "cell_type": "markdown",
   "metadata": {},
   "source": [
    "#### Looping over desired pictures to extract faces only"
   ]
  },
  {
   "cell_type": "code",
   "execution_count": 5,
   "metadata": {},
   "outputs": [
    {
     "name": "stdout",
     "output_type": "stream",
     "text": [
      "Barack Obama\n",
      "G:\\ISBHyderabad\\Campus6\\Practicum3\\Famous\\Barack Obama\n",
      "Hugh Jackman\n",
      "G:\\ISBHyderabad\\Campus6\\Practicum3\\Famous\\Hugh Jackman\n",
      "Julia Roberts\n",
      "G:\\ISBHyderabad\\Campus6\\Practicum3\\Famous\\Julia Roberts\n",
      "Mark Ruffalo\n",
      "G:\\ISBHyderabad\\Campus6\\Practicum3\\Famous\\Mark Ruffalo\n",
      "Miley Cyrus\n",
      "G:\\ISBHyderabad\\Campus6\\Practicum3\\Famous\\Miley Cyrus\n"
     ]
    }
   ],
   "source": [
    "src = \"G:\\ISBHyderabad\\Campus6\\Practicum3\\Famous\"\n",
    "dest = \"G:\\ISBHyderabad\\Campus6\\Practicum3\\Extracted\"\n",
    "for file_name in os.listdir(\"G:\\ISBHyderabad\\Campus6\\Practicum3\\Famous\"):\n",
    "    print(file_name)\n",
    "    file_path = os.path.join(src,file_name)\n",
    "    print(file_path)\n",
    "    for image in os.listdir(file_path):\n",
    "        image_path = os.path.join(file_path,image)\n",
    "        os.chdir(dest)\n",
    "        try:\n",
    "            os.mkdir(file_name)   \n",
    "        except:\n",
    "            pass\n",
    "        os.chdir(os.path.join(dest,file_name))\n",
    "        try:\n",
    "            detect_faces(image_path)\n",
    "        except:\n",
    "            pass"
   ]
  },
  {
   "cell_type": "markdown",
   "metadata": {},
   "source": [
    "#### Download Tensor Flow For Poets"
   ]
  },
  {
   "cell_type": "markdown",
   "metadata": {},
   "source": [
    "#### git clone https://github.com/googlecodelabs/tensorflow-for-poets-2\n"
   ]
  },
  {
   "cell_type": "markdown",
   "metadata": {},
   "source": [
    "#### Paste Extracted Folders in tf_file.The folder name are considered the labels"
   ]
  },
  {
   "cell_type": "markdown",
   "metadata": {},
   "source": [
    "#### CD in tensorflow_for_poets "
   ]
  },
  {
   "cell_type": "code",
   "execution_count": null,
   "metadata": {},
   "outputs": [],
   "source": [
    "python scripts/retrain.py --output_graph=tf_files/retrained_graph.pb --output_labels=tf_files/retrained_labels.txt --image_dir=tfExtracted Faces"
   ]
  },
  {
   "cell_type": "code",
   "execution_count": null,
   "metadata": {},
   "outputs": [],
   "source": [
    "python scripts/label_image.py --image image.png"
   ]
  }
 ],
 "metadata": {
  "kernelspec": {
   "display_name": "Python [conda root]",
   "language": "python",
   "name": "conda-root-py"
  },
  "language_info": {
   "codemirror_mode": {
    "name": "ipython",
    "version": 3
   },
   "file_extension": ".py",
   "mimetype": "text/x-python",
   "name": "python",
   "nbconvert_exporter": "python",
   "pygments_lexer": "ipython3",
   "version": "3.6.4"
  }
 },
 "nbformat": 4,
 "nbformat_minor": 2
}
